{
 "cells": [
  {
   "cell_type": "code",
   "execution_count": 1,
   "metadata": {},
   "outputs": [],
   "source": [
    "import numpy as np\n",
    "from linkedin_scraper import Company, actions\n",
    "from selenium import webdriver\n",
    "from chromedriver_py import binary_path"
   ]
  },
  {
   "cell_type": "code",
   "execution_count": 19,
   "metadata": {},
   "outputs": [],
   "source": [
    "\n",
    "driver = webdriver.Chrome(executable_path=binary_path)\n",
    "\n",
    "email = \"pinstripepower26@yahoo.com\"\n",
    "password = \"Pw_4@t3st\"\n",
    "actions.login(driver, email, password) # if email and password isnt given, it'll prompt in terminal\n",
    "# company = Company(\"https://www.linkedin.com/company/lemonade-inc-/\", driver = driver, get_employees= False)\n",
    "company_name = \"lemonade-inc-\" \n",
    "try:\n",
    "    company = Company(f\"https://www.linkedin.com/company/{company_name}/\",driver = driver, scrape=False)\n",
    "    company.scrape(get_employees= False, close_on_complete=True)\n",
    "except:\n",
    "    pass"
   ]
  },
  {
   "cell_type": "code",
   "execution_count": 20,
   "metadata": {},
   "outputs": [
    {
     "data": {
      "text/plain": [
       "'Insurance'"
      ]
     },
     "execution_count": 20,
     "metadata": {},
     "output_type": "execute_result"
    }
   ],
   "source": [
    "company.industry"
   ]
  },
  {
   "cell_type": "code",
   "execution_count": 21,
   "metadata": {},
   "outputs": [
    {
     "data": {
      "text/plain": [
       "'201-500 employees'"
      ]
     },
     "execution_count": 21,
     "metadata": {},
     "output_type": "execute_result"
    }
   ],
   "source": [
    "company.company_size"
   ]
  },
  {
   "cell_type": "code",
   "execution_count": null,
   "metadata": {},
   "outputs": [],
   "source": [
    "company_names = [\"lemonade-inc-\", \"afkjbjhbjhbgjs\", \"barclays-bank\"]"
   ]
  },
  {
   "cell_type": "code",
   "execution_count": 7,
   "metadata": {},
   "outputs": [],
   "source": [
    "email = \"pinstripepower26@yahoo.com\"\n",
    "password = \"Pw_4@t3st\""
   ]
  },
  {
   "cell_type": "code",
   "execution_count": 8,
   "metadata": {},
   "outputs": [],
   "source": [
    "def get_company_info(company_name):\n",
    "    try:\n",
    "        driver = webdriver.Chrome(executable_path=binary_path)\n",
    "#         email = \"pinstripepower26@yahoo.com\"\n",
    "#         password = \"Pw_4@t3st\"\n",
    "        actions.login(driver, email, password)\n",
    "        company = Company(f\"https://www.linkedin.com/company/{company_name}/\",driver = driver, scrape=True,\n",
    "             get_employees= False, close_on_complete=True)\n",
    "        return company.industry, company.company_size\n",
    "    except:\n",
    "        return np.nan, np.nan"
   ]
  },
  {
   "cell_type": "code",
   "execution_count": 9,
   "metadata": {},
   "outputs": [
    {
     "ename": "NameError",
     "evalue": "name 'company_names' is not defined",
     "output_type": "error",
     "traceback": [
      "\u001b[0;31m------------------------------------------------------------------------\u001b[0m",
      "\u001b[0;31mNameError\u001b[0m                              Traceback (most recent call last)",
      "\u001b[0;32m<ipython-input-9-4eeba624e26b>\u001b[0m in \u001b[0;36m<module>\u001b[0;34m\u001b[0m\n\u001b[0;32m----> 1\u001b[0;31m \u001b[0;32mfor\u001b[0m \u001b[0mco\u001b[0m \u001b[0;32min\u001b[0m \u001b[0mcompany_names\u001b[0m\u001b[0;34m:\u001b[0m\u001b[0;34m\u001b[0m\u001b[0;34m\u001b[0m\u001b[0m\n\u001b[0m\u001b[1;32m      2\u001b[0m     \u001b[0mprint\u001b[0m\u001b[0;34m(\u001b[0m\u001b[0mget_company_info\u001b[0m\u001b[0;34m(\u001b[0m\u001b[0mco\u001b[0m\u001b[0;34m)\u001b[0m\u001b[0;34m)\u001b[0m\u001b[0;34m\u001b[0m\u001b[0;34m\u001b[0m\u001b[0m\n",
      "\u001b[0;31mNameError\u001b[0m: name 'company_names' is not defined"
     ]
    }
   ],
   "source": [
    "for co in company_names:\n",
    "    print(get_company_info(co))\n"
   ]
  },
  {
   "cell_type": "code",
   "execution_count": 10,
   "metadata": {},
   "outputs": [
    {
     "name": "stdout",
     "output_type": "stream",
     "text": [
      "nan\n",
      "nan\n"
     ]
    }
   ],
   "source": [
    "x,y = get_company_info(\"lemonade-inc-\")\n",
    "print(x)\n",
    "print(y)"
   ]
  },
  {
   "cell_type": "code",
   "execution_count": 11,
   "metadata": {},
   "outputs": [
    {
     "data": {
      "text/plain": [
       "(nan, nan)"
      ]
     },
     "execution_count": 11,
     "metadata": {},
     "output_type": "execute_result"
    }
   ],
   "source": [
    "get_company_info(\"apple\")"
   ]
  },
  {
   "cell_type": "code",
   "execution_count": null,
   "metadata": {},
   "outputs": [],
   "source": []
  },
  {
   "cell_type": "code",
   "execution_count": 15,
   "metadata": {},
   "outputs": [],
   "source": [
    "# driver = webdriver.Chrome(executable_path=binary_path)\n",
    "# email = \"t3st3r_159@protonmail.ch\"\n",
    "# password = \"Xq5nyLxQrH\"\n",
    "# actions.login(driver, email, password)\n",
    "\n",
    "def get_company_info(company_name):\n",
    "    try:\n",
    "#         driver = webdriver.Chrome(executable_path=binary_path)\n",
    "#         email = \"t3st3r_159@protonmail.ch\"\n",
    "#         password = \"Xq5nyLxQrH\"\n",
    "#         actions.login(driver, email, password)\n",
    "        company = Company(f\"https://www.linkedin.com/company/{company_name}/\",driver = driver, scrape=True,\n",
    "             get_employees= False, close_on_complete=False)\n",
    "        return company.industry, company.company_size\n",
    "    except:\n",
    "        return np.nan, np.nan"
   ]
  },
  {
   "cell_type": "code",
   "execution_count": 16,
   "metadata": {},
   "outputs": [
    {
     "name": "stdout",
     "output_type": "stream",
     "text": [
      "('Insurance', '201-500 employees')\n",
      "('Financial Services', '10,001+ employees')\n"
     ]
    }
   ],
   "source": [
    "driver = webdriver.Chrome(executable_path=binary_path)\n",
    "email = \"t3st3r_159@protonmail.ch\"\n",
    "password = \"Xq5nyLxQrH\"\n",
    "actions.login(driver, email, password)\n",
    "\n",
    "\n",
    "company_names = [\"lemonade-inc-\", \"barclays-bank\"]\n",
    "for co in company_names:\n",
    "    print(get_company_info(co))"
   ]
  },
  {
   "cell_type": "code",
   "execution_count": 18,
   "metadata": {},
   "outputs": [
    {
     "data": {
      "text/html": [
       "<div>\n",
       "<style scoped>\n",
       "    .dataframe tbody tr th:only-of-type {\n",
       "        vertical-align: middle;\n",
       "    }\n",
       "\n",
       "    .dataframe tbody tr th {\n",
       "        vertical-align: top;\n",
       "    }\n",
       "\n",
       "    .dataframe thead th {\n",
       "        text-align: right;\n",
       "    }\n",
       "</style>\n",
       "<table border=\"1\" class=\"dataframe\">\n",
       "  <thead>\n",
       "    <tr style=\"text-align: right;\">\n",
       "      <th></th>\n",
       "      <th>Unnamed: 0</th>\n",
       "      <th>First Name</th>\n",
       "      <th>Last Name</th>\n",
       "      <th>Company</th>\n",
       "      <th>Position</th>\n",
       "      <th>Connected On</th>\n",
       "      <th>Company Industry</th>\n",
       "      <th>Company Size</th>\n",
       "    </tr>\n",
       "  </thead>\n",
       "  <tbody>\n",
       "    <tr>\n",
       "      <th>0</th>\n",
       "      <td>0</td>\n",
       "      <td>Zhirong (Claudia)</td>\n",
       "      <td>Li</td>\n",
       "      <td>Grubhub Seamless</td>\n",
       "      <td>Data Scientist</td>\n",
       "      <td>23 Nov 2020</td>\n",
       "      <td>Internet</td>\n",
       "      <td>1,001-5,000 employees</td>\n",
       "    </tr>\n",
       "    <tr>\n",
       "      <th>1</th>\n",
       "      <td>1</td>\n",
       "      <td>Lexie</td>\n",
       "      <td>Speirs</td>\n",
       "      <td>Lemonade Inc-</td>\n",
       "      <td>US Talent Acquisition Lead</td>\n",
       "      <td>22 Nov 2020</td>\n",
       "      <td>Insurance</td>\n",
       "      <td>201-500 employees</td>\n",
       "    </tr>\n",
       "    <tr>\n",
       "      <th>2</th>\n",
       "      <td>2</td>\n",
       "      <td>Michael</td>\n",
       "      <td>Deakin</td>\n",
       "      <td>Scope Personnel</td>\n",
       "      <td>Chief Executive Officer</td>\n",
       "      <td>03 Nov 2020</td>\n",
       "      <td>Staffing &amp; Recruiting</td>\n",
       "      <td>11-50 employees</td>\n",
       "    </tr>\n",
       "    <tr>\n",
       "      <th>3</th>\n",
       "      <td>3</td>\n",
       "      <td>Fiodor</td>\n",
       "      <td>Grecu</td>\n",
       "      <td>Jim Brady's</td>\n",
       "      <td>Sales Customer Service Manager</td>\n",
       "      <td>03 Nov 2020</td>\n",
       "      <td>NaN</td>\n",
       "      <td>NaN</td>\n",
       "    </tr>\n",
       "    <tr>\n",
       "      <th>4</th>\n",
       "      <td>4</td>\n",
       "      <td>Matt</td>\n",
       "      <td>Carcione</td>\n",
       "      <td>Northwell Health</td>\n",
       "      <td>Administrative Associate of Perioperative Serv...</td>\n",
       "      <td>16 Oct 2020</td>\n",
       "      <td>Hospital &amp; Health Care</td>\n",
       "      <td>10,001+ employees</td>\n",
       "    </tr>\n",
       "    <tr>\n",
       "      <th>...</th>\n",
       "      <td>...</td>\n",
       "      <td>...</td>\n",
       "      <td>...</td>\n",
       "      <td>...</td>\n",
       "      <td>...</td>\n",
       "      <td>...</td>\n",
       "      <td>...</td>\n",
       "      <td>...</td>\n",
       "    </tr>\n",
       "    <tr>\n",
       "      <th>1180</th>\n",
       "      <td>1180</td>\n",
       "      <td>Christopher</td>\n",
       "      <td>Lepore, CPA</td>\n",
       "      <td>DRA Advisors LLC</td>\n",
       "      <td>Senior Property Analyst</td>\n",
       "      <td>06 May 2011</td>\n",
       "      <td>NaN</td>\n",
       "      <td>NaN</td>\n",
       "    </tr>\n",
       "    <tr>\n",
       "      <th>1181</th>\n",
       "      <td>1181</td>\n",
       "      <td>Ermin</td>\n",
       "      <td>Deljanin</td>\n",
       "      <td>The Parkoff Organization</td>\n",
       "      <td>Controller</td>\n",
       "      <td>06 May 2011</td>\n",
       "      <td>Facilities Services</td>\n",
       "      <td>2-10 employees</td>\n",
       "    </tr>\n",
       "    <tr>\n",
       "      <th>1182</th>\n",
       "      <td>1182</td>\n",
       "      <td>Alicia</td>\n",
       "      <td>Drexel, MA, MT-BC</td>\n",
       "      <td>International Institute for the Brain (iBrain)</td>\n",
       "      <td>Music Therapist</td>\n",
       "      <td>04 May 2011</td>\n",
       "      <td>NaN</td>\n",
       "      <td>NaN</td>\n",
       "    </tr>\n",
       "    <tr>\n",
       "      <th>1183</th>\n",
       "      <td>1183</td>\n",
       "      <td>Brian</td>\n",
       "      <td>Vodoklys</td>\n",
       "      <td>DTCC</td>\n",
       "      <td>Business Validation Associate</td>\n",
       "      <td>03 May 2011</td>\n",
       "      <td>Financial Services</td>\n",
       "      <td>1,001-5,000 employees</td>\n",
       "    </tr>\n",
       "    <tr>\n",
       "      <th>1184</th>\n",
       "      <td>1184</td>\n",
       "      <td>Anthony</td>\n",
       "      <td>Apath</td>\n",
       "      <td>US Department of Homeland Security</td>\n",
       "      <td>CBP</td>\n",
       "      <td>02 May 2011</td>\n",
       "      <td>Government Administration</td>\n",
       "      <td>10,001+ employees</td>\n",
       "    </tr>\n",
       "  </tbody>\n",
       "</table>\n",
       "<p>1185 rows × 8 columns</p>\n",
       "</div>"
      ],
      "text/plain": [
       "      Unnamed: 0         First Name          Last Name  \\\n",
       "0              0  Zhirong (Claudia)                 Li   \n",
       "1              1              Lexie             Speirs   \n",
       "2              2            Michael             Deakin   \n",
       "3              3             Fiodor              Grecu   \n",
       "4              4               Matt           Carcione   \n",
       "...          ...                ...                ...   \n",
       "1180        1180        Christopher        Lepore, CPA   \n",
       "1181        1181              Ermin           Deljanin   \n",
       "1182        1182             Alicia  Drexel, MA, MT-BC   \n",
       "1183        1183              Brian           Vodoklys   \n",
       "1184        1184            Anthony              Apath   \n",
       "\n",
       "                                             Company  \\\n",
       "0                                   Grubhub Seamless   \n",
       "1                                      Lemonade Inc-   \n",
       "2                                    Scope Personnel   \n",
       "3                                       Jim Brady's    \n",
       "4                                   Northwell Health   \n",
       "...                                              ...   \n",
       "1180                                DRA Advisors LLC   \n",
       "1181                        The Parkoff Organization   \n",
       "1182  International Institute for the Brain (iBrain)   \n",
       "1183                                            DTCC   \n",
       "1184              US Department of Homeland Security   \n",
       "\n",
       "                                               Position Connected On  \\\n",
       "0                                        Data Scientist  23 Nov 2020   \n",
       "1                            US Talent Acquisition Lead  22 Nov 2020   \n",
       "2                               Chief Executive Officer  03 Nov 2020   \n",
       "3                        Sales Customer Service Manager  03 Nov 2020   \n",
       "4     Administrative Associate of Perioperative Serv...  16 Oct 2020   \n",
       "...                                                 ...          ...   \n",
       "1180                            Senior Property Analyst  06 May 2011   \n",
       "1181                                         Controller  06 May 2011   \n",
       "1182                                    Music Therapist  04 May 2011   \n",
       "1183                      Business Validation Associate  03 May 2011   \n",
       "1184                                                CBP  02 May 2011   \n",
       "\n",
       "               Company Industry           Company Size  \n",
       "0                      Internet  1,001-5,000 employees  \n",
       "1                     Insurance      201-500 employees  \n",
       "2         Staffing & Recruiting        11-50 employees  \n",
       "3                           NaN                    NaN  \n",
       "4        Hospital & Health Care      10,001+ employees  \n",
       "...                         ...                    ...  \n",
       "1180                        NaN                    NaN  \n",
       "1181        Facilities Services         2-10 employees  \n",
       "1182                        NaN                    NaN  \n",
       "1183         Financial Services  1,001-5,000 employees  \n",
       "1184  Government Administration      10,001+ employees  \n",
       "\n",
       "[1185 rows x 8 columns]"
      ]
     },
     "execution_count": 18,
     "metadata": {},
     "output_type": "execute_result"
    }
   ],
   "source": [
    "# check updated\n",
    "import pandas as pd\n",
    "check = pd.read_csv ('updated_connections.csv')\n",
    "check"
   ]
  },
  {
   "cell_type": "code",
   "execution_count": null,
   "metadata": {},
   "outputs": [],
   "source": []
  }
 ],
 "metadata": {
  "kernelspec": {
   "display_name": "Python 3.8.2 64-bit",
   "language": "python",
   "name": "python38264bit439ea6fc334741b3853c15bd9125142c"
  },
  "language_info": {
   "codemirror_mode": {
    "name": "ipython",
    "version": 3
   },
   "file_extension": ".py",
   "mimetype": "text/x-python",
   "name": "python",
   "nbconvert_exporter": "python",
   "pygments_lexer": "ipython3",
   "version": "3.8.5"
  }
 },
 "nbformat": 4,
 "nbformat_minor": 4
}
